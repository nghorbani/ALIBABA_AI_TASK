{
 "cells": [
  {
   "cell_type": "markdown",
   "metadata": {
    "pycharm": {
     "name": "#%% md\n"
    }
   },
   "source": [
    "## Prepare Flight Price Data"
   ]
  },
  {
   "cell_type": "code",
   "execution_count": 1,
   "metadata": {
    "pycharm": {
     "name": "#%%\n"
    }
   },
   "outputs": [],
   "source": [
    "%load_ext autoreload\n",
    "%autoreload 2\n",
    "%matplotlib notebook\n",
    "%matplotlib inline"
   ]
  },
  {
   "cell_type": "markdown",
   "metadata": {},
   "source": [
    "Load training configuration with Omegaconf"
   ]
  },
  {
   "cell_type": "code",
   "execution_count": 2,
   "metadata": {
    "pycharm": {
     "name": "#%%\n"
    }
   },
   "outputs": [],
   "source": [
    "from alibaba_ai_task.tools.omni_tools import get_support_data_dir\n",
    "import os.path as osp\n",
    "import numpy as np\n",
    "import pandas as pd\n",
    "import matplotlib.pyplot as plt\n",
    "from loguru import logger\n",
    "import sys\n",
    "\n",
    "logger.remove()\n",
    "log_format = \"{message}\"\n",
    "ds_logger_id = logger.add(sys.stderr, format=f\"<level>{log_format}</level>\", enqueue=True)"
   ]
  },
  {
   "cell_type": "code",
   "execution_count": 3,
   "metadata": {},
   "outputs": [
    {
     "name": "stderr",
     "output_type": "stream",
     "text": [
      "/is/ps3/nghorbani/code-repos/alibab_ai_task/support_data\n"
     ]
    }
   ],
   "source": [
    "from alibaba_ai_task.tools.omni_tools import get_support_data_dir\n",
    "from alibaba_ai_task.train.trainer import APOTrainer\n",
    "\n",
    "support_dir = get_support_data_dir()\n",
    "\n",
    "logger.info(support_dir)"
   ]
  },
  {
   "cell_type": "code",
   "execution_count": 4,
   "metadata": {},
   "outputs": [
    {
     "name": "stdout",
     "output_type": "stream",
     "text": [
      "{'apo': {'expr_id': 'V01', 'data_id': 'V01'}, 'dirs': {'work_base_dir': '/home/nghorbani/Desktop/alibaba_ai_task', 'support_base_dir': '/is/ps3/nghorbani/code-repos/alibab_ai_task/support_data', 'work_dir': '${dirs.work_base_dir}/training_experiments/${apo.expr_id}/${apo.data_id}', 'log_dir': '${dirs.work_dir}/logs', 'log_fname': '${dirs.log_dir}/${apo.expr_id}_${apo.data_id}.log', 'cfg_fname': '${dirs.work_dir}/${apo.expr_id}_${apo.data_id}.yaml', 'dataset_dir': '${dirs.work_base_dir}/data/${apo.expr_id}'}, 'train_parms': {'batch_size': '???', 'num_workers': 5, 'loss_weights': {'price': 1.0}, 'optimizer': {'type': 'Adam', 'args': {'lr': 0.001, 'weight_decay': 5e-05, 'betas': [0.9, 0.999]}}, 'lr_scheduler': {'type': 'ReduceLROnPlateau', 'args': {'verbose': True, 'patience': 3}}, 'early_stopping': {'monitor': 'val_loss', 'min_delta': 0.0, 'patience': 8, 'verbose': True, 'mode': 'min'}}, 'data_parms': {'history_length': 7, 'future_length': 7}, 'model_parms': {'labeler': {'enable_transformer': True, 'num_attention_heads': 5, 'num_attention_layers': 8}}, 'trainer': {'num_gpus': 4, 'max_epochs': 50, 'fast_dev_run': False, 'distributed_backend': 'dp', 'resume_training_if_possible': False, 'resume_checkpoint_fname': None, 'finetune_checkpoint_fname': None, 'weights_summary': 'top', 'profiler': None, 'num_sanity_val_steps': 2, 'deterministic': True, 'limit_train_batches': 1.0, 'limit_val_batches': 1.0, 'overfit_batches': 0, 'rnd_seed': 100}}\n"
     ]
    },
    {
     "name": "stderr",
     "output_type": "stream",
     "text": [
      "/home/nghorbani/Desktop/alibaba_ai_task/data/V01\n"
     ]
    }
   ],
   "source": [
    "       \n",
    "cfg = APOTrainer.prepare_train_cfg(\n",
    "    **{\n",
    "    'apo.expr_id': 'V01',\n",
    "\n",
    "    'apo.data_id': 'V01',\n",
    "        \n",
    "    'dirs.support_base_dir': support_dir,\n",
    "    'dirs.work_base_dir': '/home/nghorbani/Desktop/alibaba_ai_task',\n",
    "\n",
    "    'data_parms.history_length': 7,\n",
    "    'data_parms.future_length': 7\n",
    "})\n",
    "\n",
    "\n",
    "print(cfg)\n",
    "\n",
    "logger.info(cfg.dirs.dataset_dir)"
   ]
  },
  {
   "cell_type": "code",
   "execution_count": 5,
   "metadata": {},
   "outputs": [
    {
     "name": "stderr",
     "output_type": "stream",
     "text": [
      "Loading initial data from /is/ps3/nghorbani/code-repos/alibab_ai_task/support_data/mhd_thr.csv\n"
     ]
    },
    {
     "data": {
      "text/html": [
       "<div>\n",
       "<style scoped>\n",
       "    .dataframe tbody tr th:only-of-type {\n",
       "        vertical-align: middle;\n",
       "    }\n",
       "\n",
       "    .dataframe tbody tr th {\n",
       "        vertical-align: top;\n",
       "    }\n",
       "\n",
       "    .dataframe thead th {\n",
       "        text-align: right;\n",
       "    }\n",
       "</style>\n",
       "<table border=\"1\" class=\"dataframe\">\n",
       "  <thead>\n",
       "    <tr style=\"text-align: right;\">\n",
       "      <th></th>\n",
       "      <th>date</th>\n",
       "      <th>route</th>\n",
       "      <th>price</th>\n",
       "      <th>al</th>\n",
       "    </tr>\n",
       "    <tr>\n",
       "      <th>row</th>\n",
       "      <th></th>\n",
       "      <th></th>\n",
       "      <th></th>\n",
       "      <th></th>\n",
       "    </tr>\n",
       "  </thead>\n",
       "  <tbody>\n",
       "    <tr>\n",
       "      <th>4</th>\n",
       "      <td>2018-08-21</td>\n",
       "      <td>MHDTHR</td>\n",
       "      <td>3663000.0</td>\n",
       "      <td>1</td>\n",
       "    </tr>\n",
       "    <tr>\n",
       "      <th>5</th>\n",
       "      <td>2018-08-22</td>\n",
       "      <td>MHDTHR</td>\n",
       "      <td>3663000.0</td>\n",
       "      <td>1</td>\n",
       "    </tr>\n",
       "    <tr>\n",
       "      <th>6</th>\n",
       "      <td>2018-08-23</td>\n",
       "      <td>MHDTHR</td>\n",
       "      <td>3663000.0</td>\n",
       "      <td>1</td>\n",
       "    </tr>\n",
       "    <tr>\n",
       "      <th>7</th>\n",
       "      <td>2018-08-23</td>\n",
       "      <td>THRMHD</td>\n",
       "      <td>3663000.0</td>\n",
       "      <td>1</td>\n",
       "    </tr>\n",
       "    <tr>\n",
       "      <th>8</th>\n",
       "      <td>2018-08-13</td>\n",
       "      <td>THRMHD</td>\n",
       "      <td>3378000.0</td>\n",
       "      <td>1</td>\n",
       "    </tr>\n",
       "    <tr>\n",
       "      <th>...</th>\n",
       "      <td>...</td>\n",
       "      <td>...</td>\n",
       "      <td>...</td>\n",
       "      <td>...</td>\n",
       "    </tr>\n",
       "    <tr>\n",
       "      <th>148376</th>\n",
       "      <td>2020-03-12</td>\n",
       "      <td>MHDTHR</td>\n",
       "      <td>4532000.0</td>\n",
       "      <td>1</td>\n",
       "    </tr>\n",
       "    <tr>\n",
       "      <th>148377</th>\n",
       "      <td>2020-03-12</td>\n",
       "      <td>THRMHD</td>\n",
       "      <td>4532000.0</td>\n",
       "      <td>1</td>\n",
       "    </tr>\n",
       "    <tr>\n",
       "      <th>148378</th>\n",
       "      <td>2020-03-13</td>\n",
       "      <td>MHDTHR</td>\n",
       "      <td>4532000.0</td>\n",
       "      <td>1</td>\n",
       "    </tr>\n",
       "    <tr>\n",
       "      <th>148379</th>\n",
       "      <td>2020-03-13</td>\n",
       "      <td>THRMHD</td>\n",
       "      <td>4108000.0</td>\n",
       "      <td>1</td>\n",
       "    </tr>\n",
       "    <tr>\n",
       "      <th>148382</th>\n",
       "      <td>2020-03-14</td>\n",
       "      <td>THRMHD</td>\n",
       "      <td>4532000.0</td>\n",
       "      <td>1</td>\n",
       "    </tr>\n",
       "  </tbody>\n",
       "</table>\n",
       "<p>45897 rows × 4 columns</p>\n",
       "</div>"
      ],
      "text/plain": [
       "             date   route      price  al\n",
       "row                                     \n",
       "4      2018-08-21  MHDTHR  3663000.0   1\n",
       "5      2018-08-22  MHDTHR  3663000.0   1\n",
       "6      2018-08-23  MHDTHR  3663000.0   1\n",
       "7      2018-08-23  THRMHD  3663000.0   1\n",
       "8      2018-08-13  THRMHD  3378000.0   1\n",
       "...           ...     ...        ...  ..\n",
       "148376 2020-03-12  MHDTHR  4532000.0   1\n",
       "148377 2020-03-12  THRMHD  4532000.0   1\n",
       "148378 2020-03-13  MHDTHR  4532000.0   1\n",
       "148379 2020-03-13  THRMHD  4108000.0   1\n",
       "148382 2020-03-14  THRMHD  4532000.0   1\n",
       "\n",
       "[45897 rows x 4 columns]"
      ]
     },
     "execution_count": 5,
     "metadata": {},
     "output_type": "execute_result"
    }
   ],
   "source": [
    "init_data_fname = osp.join(support_dir, 'mhd_thr.csv')\n",
    "logger.info(f'Loading initial data from {init_data_fname}')\n",
    "df = pd.read_csv(init_data_fname, names=['row','log_data','date', 'route', 'price', 'al'], \n",
    "                 skiprows=[0], usecols=[0,2,3,4,5], index_col='row')\n",
    "df['date'] = pd.to_datetime(df['date'])# - pd.to_timedelta(7, unit='d')\n",
    "df"
   ]
  },
  {
   "cell_type": "markdown",
   "metadata": {},
   "source": [
    "Set max number of rows to be shown to the number of unique airlines"
   ]
  },
  {
   "cell_type": "code",
   "execution_count": 6,
   "metadata": {},
   "outputs": [
    {
     "name": "stderr",
     "output_type": "stream",
     "text": [
      "Number of unique AL: 15\n"
     ]
    }
   ],
   "source": [
    "num_airlines = len(df.groupby('al')['al'].agg(['count']))\n",
    "logger.info(f'Number of unique AL: {num_airlines}')\n",
    "pd.set_option(\"max_rows\", num_airlines)"
   ]
  },
  {
   "cell_type": "code",
   "execution_count": 7,
   "metadata": {},
   "outputs": [
    {
     "data": {
      "text/html": [
       "<div>\n",
       "<style scoped>\n",
       "    .dataframe tbody tr th:only-of-type {\n",
       "        vertical-align: middle;\n",
       "    }\n",
       "\n",
       "    .dataframe tbody tr th {\n",
       "        vertical-align: top;\n",
       "    }\n",
       "\n",
       "    .dataframe thead th {\n",
       "        text-align: right;\n",
       "    }\n",
       "</style>\n",
       "<table border=\"1\" class=\"dataframe\">\n",
       "  <thead>\n",
       "    <tr style=\"text-align: right;\">\n",
       "      <th></th>\n",
       "      <th>count</th>\n",
       "    </tr>\n",
       "    <tr>\n",
       "      <th>al</th>\n",
       "      <th></th>\n",
       "    </tr>\n",
       "  </thead>\n",
       "  <tbody>\n",
       "    <tr>\n",
       "      <th>1</th>\n",
       "      <td>10197</td>\n",
       "    </tr>\n",
       "    <tr>\n",
       "      <th>2</th>\n",
       "      <td>6967</td>\n",
       "    </tr>\n",
       "    <tr>\n",
       "      <th>3</th>\n",
       "      <td>5961</td>\n",
       "    </tr>\n",
       "    <tr>\n",
       "      <th>4</th>\n",
       "      <td>4707</td>\n",
       "    </tr>\n",
       "    <tr>\n",
       "      <th>5</th>\n",
       "      <td>3337</td>\n",
       "    </tr>\n",
       "    <tr>\n",
       "      <th>6</th>\n",
       "      <td>2110</td>\n",
       "    </tr>\n",
       "    <tr>\n",
       "      <th>7</th>\n",
       "      <td>2007</td>\n",
       "    </tr>\n",
       "    <tr>\n",
       "      <th>8</th>\n",
       "      <td>2389</td>\n",
       "    </tr>\n",
       "    <tr>\n",
       "      <th>9</th>\n",
       "      <td>2694</td>\n",
       "    </tr>\n",
       "    <tr>\n",
       "      <th>10</th>\n",
       "      <td>2471</td>\n",
       "    </tr>\n",
       "    <tr>\n",
       "      <th>11</th>\n",
       "      <td>1755</td>\n",
       "    </tr>\n",
       "    <tr>\n",
       "      <th>12</th>\n",
       "      <td>938</td>\n",
       "    </tr>\n",
       "    <tr>\n",
       "      <th>13</th>\n",
       "      <td>301</td>\n",
       "    </tr>\n",
       "    <tr>\n",
       "      <th>14</th>\n",
       "      <td>62</td>\n",
       "    </tr>\n",
       "    <tr>\n",
       "      <th>15</th>\n",
       "      <td>1</td>\n",
       "    </tr>\n",
       "  </tbody>\n",
       "</table>\n",
       "</div>"
      ],
      "text/plain": [
       "    count\n",
       "al       \n",
       "1   10197\n",
       "2    6967\n",
       "3    5961\n",
       "4    4707\n",
       "5    3337\n",
       "6    2110\n",
       "7    2007\n",
       "8    2389\n",
       "9    2694\n",
       "10   2471\n",
       "11   1755\n",
       "12    938\n",
       "13    301\n",
       "14     62\n",
       "15      1"
      ]
     },
     "execution_count": 7,
     "metadata": {},
     "output_type": "execute_result"
    }
   ],
   "source": [
    "df.groupby(['al'])['al'].agg(['count'])"
   ]
  },
  {
   "cell_type": "markdown",
   "metadata": {},
   "source": [
    "### Remove duplicate prices for the same date/route/al.\n",
    "Note that there could actually be multiple flights for an airline in a day.\n",
    "\n",
    "This can happen when flights are on different hours. For the task at hand we would take the median price since we handle data at daily basis. Notice the drop in row count after the following cell."
   ]
  },
  {
   "cell_type": "code",
   "execution_count": 8,
   "metadata": {},
   "outputs": [
    {
     "data": {
      "text/html": [
       "<div>\n",
       "<style scoped>\n",
       "    .dataframe tbody tr th:only-of-type {\n",
       "        vertical-align: middle;\n",
       "    }\n",
       "\n",
       "    .dataframe tbody tr th {\n",
       "        vertical-align: top;\n",
       "    }\n",
       "\n",
       "    .dataframe thead th {\n",
       "        text-align: right;\n",
       "    }\n",
       "</style>\n",
       "<table border=\"1\" class=\"dataframe\">\n",
       "  <thead>\n",
       "    <tr style=\"text-align: right;\">\n",
       "      <th></th>\n",
       "      <th>date</th>\n",
       "      <th>al</th>\n",
       "      <th>route</th>\n",
       "      <th>price</th>\n",
       "    </tr>\n",
       "  </thead>\n",
       "  <tbody>\n",
       "    <tr>\n",
       "      <th>0</th>\n",
       "      <td>2018-08-13</td>\n",
       "      <td>1</td>\n",
       "      <td>THRMHD</td>\n",
       "      <td>3378000.0</td>\n",
       "    </tr>\n",
       "    <tr>\n",
       "      <th>1</th>\n",
       "      <td>2018-08-14</td>\n",
       "      <td>1</td>\n",
       "      <td>MHDTHR</td>\n",
       "      <td>3102000.0</td>\n",
       "    </tr>\n",
       "    <tr>\n",
       "      <th>2</th>\n",
       "      <td>2018-08-14</td>\n",
       "      <td>1</td>\n",
       "      <td>THRMHD</td>\n",
       "      <td>3176000.0</td>\n",
       "    </tr>\n",
       "    <tr>\n",
       "      <th>3</th>\n",
       "      <td>2018-08-16</td>\n",
       "      <td>1</td>\n",
       "      <td>MHDTHR</td>\n",
       "      <td>2826000.0</td>\n",
       "    </tr>\n",
       "    <tr>\n",
       "      <th>4</th>\n",
       "      <td>2018-08-16</td>\n",
       "      <td>1</td>\n",
       "      <td>THRMHD</td>\n",
       "      <td>3378000.0</td>\n",
       "    </tr>\n",
       "    <tr>\n",
       "      <th>...</th>\n",
       "      <td>...</td>\n",
       "      <td>...</td>\n",
       "      <td>...</td>\n",
       "      <td>...</td>\n",
       "    </tr>\n",
       "    <tr>\n",
       "      <th>5436</th>\n",
       "      <td>2020-03-14</td>\n",
       "      <td>1</td>\n",
       "      <td>THRMHD</td>\n",
       "      <td>4613000.0</td>\n",
       "    </tr>\n",
       "    <tr>\n",
       "      <th>5437</th>\n",
       "      <td>2020-03-15</td>\n",
       "      <td>1</td>\n",
       "      <td>MHDTHR</td>\n",
       "      <td>4080000.0</td>\n",
       "    </tr>\n",
       "    <tr>\n",
       "      <th>5438</th>\n",
       "      <td>2020-03-15</td>\n",
       "      <td>1</td>\n",
       "      <td>THRMHD</td>\n",
       "      <td>4613000.0</td>\n",
       "    </tr>\n",
       "    <tr>\n",
       "      <th>5439</th>\n",
       "      <td>2020-03-16</td>\n",
       "      <td>1</td>\n",
       "      <td>MHDTHR</td>\n",
       "      <td>4080000.0</td>\n",
       "    </tr>\n",
       "    <tr>\n",
       "      <th>5440</th>\n",
       "      <td>2020-03-16</td>\n",
       "      <td>1</td>\n",
       "      <td>THRMHD</td>\n",
       "      <td>4613000.0</td>\n",
       "    </tr>\n",
       "  </tbody>\n",
       "</table>\n",
       "<p>5441 rows × 4 columns</p>\n",
       "</div>"
      ],
      "text/plain": [
       "           date  al   route      price\n",
       "0    2018-08-13   1  THRMHD  3378000.0\n",
       "1    2018-08-14   1  MHDTHR  3102000.0\n",
       "2    2018-08-14   1  THRMHD  3176000.0\n",
       "3    2018-08-16   1  MHDTHR  2826000.0\n",
       "4    2018-08-16   1  THRMHD  3378000.0\n",
       "...         ...  ..     ...        ...\n",
       "5436 2020-03-14   1  THRMHD  4613000.0\n",
       "5437 2020-03-15   1  MHDTHR  4080000.0\n",
       "5438 2020-03-15   1  THRMHD  4613000.0\n",
       "5439 2020-03-16   1  MHDTHR  4080000.0\n",
       "5440 2020-03-16   1  THRMHD  4613000.0\n",
       "\n",
       "[5441 rows x 4 columns]"
      ]
     },
     "execution_count": 8,
     "metadata": {},
     "output_type": "execute_result"
    }
   ],
   "source": [
    "df = df.groupby(['date','al', 'route'])['price'].agg('median').reset_index()\n",
    "df"
   ]
  },
  {
   "cell_type": "markdown",
   "metadata": {},
   "source": [
    "## Filter noisy data\n"
   ]
  },
  {
   "cell_type": "markdown",
   "metadata": {},
   "source": [
    "### Remove airlines with very few records."
   ]
  },
  {
   "cell_type": "code",
   "execution_count": 9,
   "metadata": {},
   "outputs": [
    {
     "data": {
      "text/html": [
       "<div>\n",
       "<style scoped>\n",
       "    .dataframe tbody tr th:only-of-type {\n",
       "        vertical-align: middle;\n",
       "    }\n",
       "\n",
       "    .dataframe tbody tr th {\n",
       "        vertical-align: top;\n",
       "    }\n",
       "\n",
       "    .dataframe thead th {\n",
       "        text-align: right;\n",
       "    }\n",
       "</style>\n",
       "<table border=\"1\" class=\"dataframe\">\n",
       "  <thead>\n",
       "    <tr style=\"text-align: right;\">\n",
       "      <th></th>\n",
       "      <th>count</th>\n",
       "    </tr>\n",
       "    <tr>\n",
       "      <th>al</th>\n",
       "      <th></th>\n",
       "    </tr>\n",
       "  </thead>\n",
       "  <tbody>\n",
       "    <tr>\n",
       "      <th>1</th>\n",
       "      <td>1055</td>\n",
       "    </tr>\n",
       "    <tr>\n",
       "      <th>2</th>\n",
       "      <td>415</td>\n",
       "    </tr>\n",
       "    <tr>\n",
       "      <th>3</th>\n",
       "      <td>393</td>\n",
       "    </tr>\n",
       "    <tr>\n",
       "      <th>4</th>\n",
       "      <td>408</td>\n",
       "    </tr>\n",
       "    <tr>\n",
       "      <th>5</th>\n",
       "      <td>423</td>\n",
       "    </tr>\n",
       "    <tr>\n",
       "      <th>6</th>\n",
       "      <td>413</td>\n",
       "    </tr>\n",
       "    <tr>\n",
       "      <th>7</th>\n",
       "      <td>423</td>\n",
       "    </tr>\n",
       "    <tr>\n",
       "      <th>8</th>\n",
       "      <td>410</td>\n",
       "    </tr>\n",
       "    <tr>\n",
       "      <th>9</th>\n",
       "      <td>407</td>\n",
       "    </tr>\n",
       "    <tr>\n",
       "      <th>10</th>\n",
       "      <td>401</td>\n",
       "    </tr>\n",
       "    <tr>\n",
       "      <th>11</th>\n",
       "      <td>337</td>\n",
       "    </tr>\n",
       "    <tr>\n",
       "      <th>12</th>\n",
       "      <td>239</td>\n",
       "    </tr>\n",
       "    <tr>\n",
       "      <th>13</th>\n",
       "      <td>95</td>\n",
       "    </tr>\n",
       "    <tr>\n",
       "      <th>14</th>\n",
       "      <td>21</td>\n",
       "    </tr>\n",
       "  </tbody>\n",
       "</table>\n",
       "</div>"
      ],
      "text/plain": [
       "    count\n",
       "al       \n",
       "1    1055\n",
       "2     415\n",
       "3     393\n",
       "4     408\n",
       "5     423\n",
       "6     413\n",
       "7     423\n",
       "8     410\n",
       "9     407\n",
       "10    401\n",
       "11    337\n",
       "12    239\n",
       "13     95\n",
       "14     21"
      ]
     },
     "execution_count": 9,
     "metadata": {},
     "output_type": "execute_result"
    }
   ],
   "source": [
    "df = df.groupby('al').filter(lambda x : len(x)>10)\n",
    "df.groupby(['al'])['al'].agg(['count'])"
   ]
  },
  {
   "cell_type": "markdown",
   "metadata": {},
   "source": [
    "### Skip the negative price records"
   ]
  },
  {
   "cell_type": "code",
   "execution_count": 10,
   "metadata": {},
   "outputs": [
    {
     "data": {
      "text/html": [
       "<div>\n",
       "<style scoped>\n",
       "    .dataframe tbody tr th:only-of-type {\n",
       "        vertical-align: middle;\n",
       "    }\n",
       "\n",
       "    .dataframe tbody tr th {\n",
       "        vertical-align: top;\n",
       "    }\n",
       "\n",
       "    .dataframe thead tr th {\n",
       "        text-align: left;\n",
       "    }\n",
       "\n",
       "    .dataframe thead tr:last-of-type th {\n",
       "        text-align: right;\n",
       "    }\n",
       "</style>\n",
       "<table border=\"1\" class=\"dataframe\">\n",
       "  <thead>\n",
       "    <tr>\n",
       "      <th></th>\n",
       "      <th colspan=\"6\" halign=\"left\">price</th>\n",
       "    </tr>\n",
       "    <tr>\n",
       "      <th></th>\n",
       "      <th>mean</th>\n",
       "      <th>median</th>\n",
       "      <th>min</th>\n",
       "      <th>max</th>\n",
       "      <th>std</th>\n",
       "      <th>var</th>\n",
       "    </tr>\n",
       "    <tr>\n",
       "      <th>al</th>\n",
       "      <th></th>\n",
       "      <th></th>\n",
       "      <th></th>\n",
       "      <th></th>\n",
       "      <th></th>\n",
       "      <th></th>\n",
       "    </tr>\n",
       "  </thead>\n",
       "  <tbody>\n",
       "    <tr>\n",
       "      <th>1</th>\n",
       "      <td>3981563.56</td>\n",
       "      <td>3980000.00</td>\n",
       "      <td>-1.00</td>\n",
       "      <td>6631500.00</td>\n",
       "      <td>965086.66</td>\n",
       "      <td>9.313923e+11</td>\n",
       "    </tr>\n",
       "    <tr>\n",
       "      <th>2</th>\n",
       "      <td>4198515.34</td>\n",
       "      <td>4230500.00</td>\n",
       "      <td>1737000.00</td>\n",
       "      <td>6407000.00</td>\n",
       "      <td>857391.27</td>\n",
       "      <td>7.351198e+11</td>\n",
       "    </tr>\n",
       "    <tr>\n",
       "      <th>3</th>\n",
       "      <td>4163444.02</td>\n",
       "      <td>4119000.00</td>\n",
       "      <td>2213333.33</td>\n",
       "      <td>7100666.67</td>\n",
       "      <td>753841.81</td>\n",
       "      <td>5.682775e+11</td>\n",
       "    </tr>\n",
       "    <tr>\n",
       "      <th>4</th>\n",
       "      <td>4171884.50</td>\n",
       "      <td>4121375.00</td>\n",
       "      <td>2310000.00</td>\n",
       "      <td>6815500.00</td>\n",
       "      <td>732534.40</td>\n",
       "      <td>5.366066e+11</td>\n",
       "    </tr>\n",
       "    <tr>\n",
       "      <th>5</th>\n",
       "      <td>4162069.22</td>\n",
       "      <td>4088200.00</td>\n",
       "      <td>2398000.00</td>\n",
       "      <td>6619800.00</td>\n",
       "      <td>722900.77</td>\n",
       "      <td>5.225855e+11</td>\n",
       "    </tr>\n",
       "    <tr>\n",
       "      <th>6</th>\n",
       "      <td>4272594.89</td>\n",
       "      <td>4204833.33</td>\n",
       "      <td>2168666.67</td>\n",
       "      <td>6870333.33</td>\n",
       "      <td>843085.60</td>\n",
       "      <td>7.107933e+11</td>\n",
       "    </tr>\n",
       "    <tr>\n",
       "      <th>7</th>\n",
       "      <td>4301174.90</td>\n",
       "      <td>4294428.57</td>\n",
       "      <td>1734571.43</td>\n",
       "      <td>6543857.14</td>\n",
       "      <td>993697.24</td>\n",
       "      <td>9.874342e+11</td>\n",
       "    </tr>\n",
       "    <tr>\n",
       "      <th>8</th>\n",
       "      <td>4155161.13</td>\n",
       "      <td>4175500.00</td>\n",
       "      <td>1515812.50</td>\n",
       "      <td>6403250.00</td>\n",
       "      <td>1077285.00</td>\n",
       "      <td>1.160543e+12</td>\n",
       "    </tr>\n",
       "    <tr>\n",
       "      <th>9</th>\n",
       "      <td>3986647.33</td>\n",
       "      <td>3984222.22</td>\n",
       "      <td>1631111.11</td>\n",
       "      <td>6555500.00</td>\n",
       "      <td>1095038.84</td>\n",
       "      <td>1.199110e+12</td>\n",
       "    </tr>\n",
       "    <tr>\n",
       "      <th>10</th>\n",
       "      <td>3754825.77</td>\n",
       "      <td>3708100.00</td>\n",
       "      <td>1601600.00</td>\n",
       "      <td>6222900.00</td>\n",
       "      <td>1030004.46</td>\n",
       "      <td>1.060909e+12</td>\n",
       "    </tr>\n",
       "    <tr>\n",
       "      <th>11</th>\n",
       "      <td>3679089.84</td>\n",
       "      <td>3671636.36</td>\n",
       "      <td>1507127.27</td>\n",
       "      <td>6144318.18</td>\n",
       "      <td>1019720.09</td>\n",
       "      <td>1.039829e+12</td>\n",
       "    </tr>\n",
       "    <tr>\n",
       "      <th>12</th>\n",
       "      <td>3629089.70</td>\n",
       "      <td>3552291.67</td>\n",
       "      <td>1543947.92</td>\n",
       "      <td>5834041.67</td>\n",
       "      <td>973749.14</td>\n",
       "      <td>9.481874e+11</td>\n",
       "    </tr>\n",
       "    <tr>\n",
       "      <th>13</th>\n",
       "      <td>3538942.06</td>\n",
       "      <td>3561230.77</td>\n",
       "      <td>1610500.00</td>\n",
       "      <td>5520692.31</td>\n",
       "      <td>888312.92</td>\n",
       "      <td>7.890998e+11</td>\n",
       "    </tr>\n",
       "    <tr>\n",
       "      <th>14</th>\n",
       "      <td>3652562.07</td>\n",
       "      <td>3515285.71</td>\n",
       "      <td>2097071.43</td>\n",
       "      <td>5521571.43</td>\n",
       "      <td>952648.66</td>\n",
       "      <td>9.075395e+11</td>\n",
       "    </tr>\n",
       "  </tbody>\n",
       "</table>\n",
       "</div>"
      ],
      "text/plain": [
       "         price                                                              \n",
       "          mean      median         min         max         std           var\n",
       "al                                                                          \n",
       "1   3981563.56  3980000.00       -1.00  6631500.00   965086.66  9.313923e+11\n",
       "2   4198515.34  4230500.00  1737000.00  6407000.00   857391.27  7.351198e+11\n",
       "3   4163444.02  4119000.00  2213333.33  7100666.67   753841.81  5.682775e+11\n",
       "4   4171884.50  4121375.00  2310000.00  6815500.00   732534.40  5.366066e+11\n",
       "5   4162069.22  4088200.00  2398000.00  6619800.00   722900.77  5.225855e+11\n",
       "6   4272594.89  4204833.33  2168666.67  6870333.33   843085.60  7.107933e+11\n",
       "7   4301174.90  4294428.57  1734571.43  6543857.14   993697.24  9.874342e+11\n",
       "8   4155161.13  4175500.00  1515812.50  6403250.00  1077285.00  1.160543e+12\n",
       "9   3986647.33  3984222.22  1631111.11  6555500.00  1095038.84  1.199110e+12\n",
       "10  3754825.77  3708100.00  1601600.00  6222900.00  1030004.46  1.060909e+12\n",
       "11  3679089.84  3671636.36  1507127.27  6144318.18  1019720.09  1.039829e+12\n",
       "12  3629089.70  3552291.67  1543947.92  5834041.67   973749.14  9.481874e+11\n",
       "13  3538942.06  3561230.77  1610500.00  5520692.31   888312.92  7.890998e+11\n",
       "14  3652562.07  3515285.71  2097071.43  5521571.43   952648.66  9.075395e+11"
      ]
     },
     "execution_count": 10,
     "metadata": {},
     "output_type": "execute_result"
    }
   ],
   "source": [
    "agg_func_math = {\n",
    "    'price':\n",
    "    ['mean', 'median', 'min', 'max', 'std', 'var', ],\n",
    "}\n",
    "df.groupby(['al']).agg(agg_func_math).round(2)\n"
   ]
  },
  {
   "cell_type": "code",
   "execution_count": 11,
   "metadata": {},
   "outputs": [
    {
     "name": "stderr",
     "output_type": "stream",
     "text": [
      "Number of negative price records: 1\n",
      "Number of new records: 5439\n"
     ]
    }
   ],
   "source": [
    "neg_price = df.price<=0\n",
    "logger.info(f'Number of negative price records: {sum(neg_price)}')\n",
    "df = df.loc[~neg_price]\n",
    "logger.info(f'Number of new records: {len(df)}')"
   ]
  },
  {
   "cell_type": "code",
   "execution_count": 12,
   "metadata": {},
   "outputs": [
    {
     "name": "stderr",
     "output_type": "stream",
     "text": [
      "['MHDTHR', 'THRMHD']\n"
     ]
    },
    {
     "data": {
      "text/html": [
       "<div>\n",
       "<style scoped>\n",
       "    .dataframe tbody tr th:only-of-type {\n",
       "        vertical-align: middle;\n",
       "    }\n",
       "\n",
       "    .dataframe tbody tr th {\n",
       "        vertical-align: top;\n",
       "    }\n",
       "\n",
       "    .dataframe thead th {\n",
       "        text-align: right;\n",
       "    }\n",
       "</style>\n",
       "<table border=\"1\" class=\"dataframe\">\n",
       "  <thead>\n",
       "    <tr style=\"text-align: right;\">\n",
       "      <th></th>\n",
       "      <th>count</th>\n",
       "    </tr>\n",
       "    <tr>\n",
       "      <th>route</th>\n",
       "      <th></th>\n",
       "    </tr>\n",
       "  </thead>\n",
       "  <tbody>\n",
       "    <tr>\n",
       "      <th>MHDTHR</th>\n",
       "      <td>2722</td>\n",
       "    </tr>\n",
       "    <tr>\n",
       "      <th>THRMHD</th>\n",
       "      <td>2717</td>\n",
       "    </tr>\n",
       "  </tbody>\n",
       "</table>\n",
       "</div>"
      ],
      "text/plain": [
       "        count\n",
       "route        \n",
       "MHDTHR   2722\n",
       "THRMHD   2717"
      ]
     },
     "execution_count": 12,
     "metadata": {},
     "output_type": "execute_result"
    }
   ],
   "source": [
    "routes = list(df.groupby(['route'])['route'].agg(['count']).reset_index()['route'])\n",
    "logger.info(routes)\n",
    "df.groupby(['route'])['route'].agg(['count'])"
   ]
  },
  {
   "cell_type": "code",
   "execution_count": 13,
   "metadata": {},
   "outputs": [
    {
     "data": {
      "text/plain": [
       "al  route \n",
       "1   MHDTHR    526\n",
       "    THRMHD    528\n",
       "2   MHDTHR    210\n",
       "    THRMHD    205\n",
       "3   MHDTHR    197\n",
       "             ... \n",
       "12  THRMHD    113\n",
       "13  MHDTHR     59\n",
       "    THRMHD     36\n",
       "14  MHDTHR      7\n",
       "    THRMHD     14\n",
       "Name: route, Length: 28, dtype: int64"
      ]
     },
     "execution_count": 13,
     "metadata": {},
     "output_type": "execute_result"
    }
   ],
   "source": [
    "df.groupby(['al', 'route'])['route'].agg('count')"
   ]
  },
  {
   "cell_type": "code",
   "execution_count": 14,
   "metadata": {},
   "outputs": [
    {
     "name": "stderr",
     "output_type": "stream",
     "text": [
      "\n",
      "---------------------\n",
      "\n",
      "al\n",
      "1     526\n",
      "2     210\n",
      "3     197\n",
      "4     205\n",
      "5     210\n",
      "6     199\n",
      "7     206\n",
      "8     200\n",
      "9     205\n",
      "10    205\n",
      "11    167\n",
      "12    126\n",
      "13     59\n",
      "14      7\n",
      "Name: al, dtype: int64\n",
      "\n",
      "---------------------\n",
      "\n",
      "al\n",
      "1     528\n",
      "2     205\n",
      "3     196\n",
      "4     203\n",
      "5     213\n",
      "6     214\n",
      "7     217\n",
      "8     210\n",
      "9     202\n",
      "10    196\n",
      "11    170\n",
      "12    113\n",
      "13     36\n",
      "14     14\n",
      "Name: al, dtype: int64\n"
     ]
    }
   ],
   "source": [
    "for route in routes:\n",
    "    logger.info('\\n---------------------\\n', route)\n",
    "    logger.info(df[df.route==route].groupby(['al'])['al'].agg('count'))"
   ]
  },
  {
   "cell_type": "code",
   "execution_count": 15,
   "metadata": {},
   "outputs": [],
   "source": [
    "# import seaborn as sns\n",
    "# # Use seaborn style defaults and set the default figure size\n",
    "# sns.set(rc={'figure.figsize':(11, 4)})"
   ]
  },
  {
   "cell_type": "code",
   "execution_count": 16,
   "metadata": {
    "scrolled": true
   },
   "outputs": [],
   "source": [
    "# plt.close('all')\n",
    "# plt.clf()\n",
    "# plt.cla()\n",
    "# axes_MHDTHR = df.groupby('al').plot(y='price', legend=False)"
   ]
  },
  {
   "cell_type": "code",
   "execution_count": 17,
   "metadata": {},
   "outputs": [],
   "source": [
    "# recalculate number of unique airlines\n",
    "num_airlines = len(df.groupby('al')['al'].agg(['count']))"
   ]
  },
  {
   "cell_type": "markdown",
   "metadata": {},
   "source": [
    "# Prepare Training Data\n",
    "Group data in weeks for training"
   ]
  },
  {
   "cell_type": "code",
   "execution_count": 18,
   "metadata": {},
   "outputs": [
    {
     "name": "stderr",
     "output_type": "stream",
     "text": [
      "Index(['date', 'al', 'route', 'price'], dtype='object')\n"
     ]
    }
   ],
   "source": [
    "logger.info(df._info_axis)"
   ]
  },
  {
   "cell_type": "code",
   "execution_count": 19,
   "metadata": {},
   "outputs": [
    {
     "name": "stderr",
     "output_type": "stream",
     "text": [
      "1134 data points\n"
     ]
    }
   ],
   "source": [
    "from datetime import datetime, timedelta\n",
    "\n",
    "\n",
    "def retrieve_week_data(start_date, route):\n",
    "    end_date = start_date + timedelta(days=cfg.data_parms.history_length+cfg.data_parms.future_length)\n",
    "    mask = (df[\"date\"] >= start_date) & (df[\"date\"] < end_date) & (df[\"route\"]==route)\n",
    "\n",
    "    return df.loc[mask].copy()\n",
    "\n",
    "def datetime_range(start, end, delta):\n",
    "    current = start\n",
    "    while current < end:\n",
    "        yield current\n",
    "        current += delta\n",
    "        \n",
    "\n",
    "min_date = df['date'].min()#+timedelta(days=40)\n",
    "max_date = df['date'].max()-timedelta(days=14)\n",
    "\n",
    "weekly_grouped_data = []\n",
    "for start_date in datetime_range(min_date, max_date, timedelta(days=1)):\n",
    "#     print(start_date)\n",
    "    for route in routes:\n",
    "        data = retrieve_week_data(start_date, route)\n",
    "        #print(len(data))#, len(data)/(14*7.))\n",
    "        weekly_grouped_data.append(data)\n",
    "logger.info(f'{len(weekly_grouped_data)} data points')"
   ]
  },
  {
   "cell_type": "code",
   "execution_count": 20,
   "metadata": {},
   "outputs": [],
   "source": [
    "id_max_d = np.argmax([len(a)/(cfg.data_parms.history_length*float(num_airlines)) for a in weekly_grouped_data])\n",
    "value_max_d = np.max([len(a)/(cfg.data_parms.history_length*float(num_airlines)) for a in weekly_grouped_data])                    "
   ]
  },
  {
   "cell_type": "code",
   "execution_count": 21,
   "metadata": {},
   "outputs": [
    {
     "data": {
      "text/plain": [
       "1"
      ]
     },
     "execution_count": 21,
     "metadata": {},
     "output_type": "execute_result"
    }
   ],
   "source": [
    "max_d = weekly_grouped_data[id_max_d]\n",
    "max_d.groupby(['date','al', 'route'])['al'].agg('count').max()#.reset_index()"
   ]
  },
  {
   "cell_type": "code",
   "execution_count": 22,
   "metadata": {},
   "outputs": [
    {
     "data": {
      "text/html": [
       "<div>\n",
       "<style scoped>\n",
       "    .dataframe tbody tr th:only-of-type {\n",
       "        vertical-align: middle;\n",
       "    }\n",
       "\n",
       "    .dataframe tbody tr th {\n",
       "        vertical-align: top;\n",
       "    }\n",
       "\n",
       "    .dataframe thead th {\n",
       "        text-align: right;\n",
       "    }\n",
       "</style>\n",
       "<table border=\"1\" class=\"dataframe\">\n",
       "  <thead>\n",
       "    <tr style=\"text-align: right;\">\n",
       "      <th></th>\n",
       "      <th>date</th>\n",
       "      <th>al</th>\n",
       "      <th>route</th>\n",
       "      <th>price</th>\n",
       "    </tr>\n",
       "  </thead>\n",
       "  <tbody>\n",
       "    <tr>\n",
       "      <th>2934</th>\n",
       "      <td>2019-08-07</td>\n",
       "      <td>1</td>\n",
       "      <td>MHDTHR</td>\n",
       "      <td>3809000.0</td>\n",
       "    </tr>\n",
       "    <tr>\n",
       "      <th>2958</th>\n",
       "      <td>2019-08-08</td>\n",
       "      <td>1</td>\n",
       "      <td>MHDTHR</td>\n",
       "      <td>5084000.0</td>\n",
       "    </tr>\n",
       "    <tr>\n",
       "      <th>2984</th>\n",
       "      <td>2019-08-09</td>\n",
       "      <td>1</td>\n",
       "      <td>MHDTHR</td>\n",
       "      <td>3591000.0</td>\n",
       "    </tr>\n",
       "    <tr>\n",
       "      <th>3009</th>\n",
       "      <td>2019-08-10</td>\n",
       "      <td>1</td>\n",
       "      <td>MHDTHR</td>\n",
       "      <td>3240000.0</td>\n",
       "    </tr>\n",
       "    <tr>\n",
       "      <th>3034</th>\n",
       "      <td>2019-08-11</td>\n",
       "      <td>1</td>\n",
       "      <td>MHDTHR</td>\n",
       "      <td>2253000.0</td>\n",
       "    </tr>\n",
       "    <tr>\n",
       "      <th>3059</th>\n",
       "      <td>2019-08-12</td>\n",
       "      <td>1</td>\n",
       "      <td>MHDTHR</td>\n",
       "      <td>4470000.0</td>\n",
       "    </tr>\n",
       "    <tr>\n",
       "      <th>3083</th>\n",
       "      <td>2019-08-13</td>\n",
       "      <td>1</td>\n",
       "      <td>MHDTHR</td>\n",
       "      <td>3377000.0</td>\n",
       "    </tr>\n",
       "    <tr>\n",
       "      <th>3106</th>\n",
       "      <td>2019-08-14</td>\n",
       "      <td>1</td>\n",
       "      <td>MHDTHR</td>\n",
       "      <td>5221000.0</td>\n",
       "    </tr>\n",
       "    <tr>\n",
       "      <th>3130</th>\n",
       "      <td>2019-08-15</td>\n",
       "      <td>1</td>\n",
       "      <td>MHDTHR</td>\n",
       "      <td>4120000.0</td>\n",
       "    </tr>\n",
       "    <tr>\n",
       "      <th>3155</th>\n",
       "      <td>2019-08-16</td>\n",
       "      <td>1</td>\n",
       "      <td>MHDTHR</td>\n",
       "      <td>3591000.0</td>\n",
       "    </tr>\n",
       "    <tr>\n",
       "      <th>3180</th>\n",
       "      <td>2019-08-17</td>\n",
       "      <td>1</td>\n",
       "      <td>MHDTHR</td>\n",
       "      <td>5132500.0</td>\n",
       "    </tr>\n",
       "    <tr>\n",
       "      <th>3205</th>\n",
       "      <td>2019-08-18</td>\n",
       "      <td>1</td>\n",
       "      <td>MHDTHR</td>\n",
       "      <td>5221000.0</td>\n",
       "    </tr>\n",
       "    <tr>\n",
       "      <th>3229</th>\n",
       "      <td>2019-08-19</td>\n",
       "      <td>1</td>\n",
       "      <td>MHDTHR</td>\n",
       "      <td>3896000.0</td>\n",
       "    </tr>\n",
       "    <tr>\n",
       "      <th>3254</th>\n",
       "      <td>2019-08-20</td>\n",
       "      <td>1</td>\n",
       "      <td>MHDTHR</td>\n",
       "      <td>3896000.0</td>\n",
       "    </tr>\n",
       "  </tbody>\n",
       "</table>\n",
       "</div>"
      ],
      "text/plain": [
       "           date  al   route      price\n",
       "2934 2019-08-07   1  MHDTHR  3809000.0\n",
       "2958 2019-08-08   1  MHDTHR  5084000.0\n",
       "2984 2019-08-09   1  MHDTHR  3591000.0\n",
       "3009 2019-08-10   1  MHDTHR  3240000.0\n",
       "3034 2019-08-11   1  MHDTHR  2253000.0\n",
       "3059 2019-08-12   1  MHDTHR  4470000.0\n",
       "3083 2019-08-13   1  MHDTHR  3377000.0\n",
       "3106 2019-08-14   1  MHDTHR  5221000.0\n",
       "3130 2019-08-15   1  MHDTHR  4120000.0\n",
       "3155 2019-08-16   1  MHDTHR  3591000.0\n",
       "3180 2019-08-17   1  MHDTHR  5132500.0\n",
       "3205 2019-08-18   1  MHDTHR  5221000.0\n",
       "3229 2019-08-19   1  MHDTHR  3896000.0\n",
       "3254 2019-08-20   1  MHDTHR  3896000.0"
      ]
     },
     "execution_count": 22,
     "metadata": {},
     "output_type": "execute_result"
    }
   ],
   "source": [
    "max_d[(max_d['al'] == 1)]"
   ]
  },
  {
   "cell_type": "code",
   "execution_count": 23,
   "metadata": {},
   "outputs": [
    {
     "data": {
      "text/html": [
       "<div>\n",
       "<style scoped>\n",
       "    .dataframe tbody tr th:only-of-type {\n",
       "        vertical-align: middle;\n",
       "    }\n",
       "\n",
       "    .dataframe tbody tr th {\n",
       "        vertical-align: top;\n",
       "    }\n",
       "\n",
       "    .dataframe thead th {\n",
       "        text-align: right;\n",
       "    }\n",
       "</style>\n",
       "<table border=\"1\" class=\"dataframe\">\n",
       "  <thead>\n",
       "    <tr style=\"text-align: right;\">\n",
       "      <th></th>\n",
       "      <th>date</th>\n",
       "      <th>al</th>\n",
       "      <th>route</th>\n",
       "      <th>price</th>\n",
       "    </tr>\n",
       "  </thead>\n",
       "  <tbody>\n",
       "    <tr>\n",
       "      <th>0</th>\n",
       "      <td>2018-08-13</td>\n",
       "      <td>1</td>\n",
       "      <td>THRMHD</td>\n",
       "      <td>3378000.0</td>\n",
       "    </tr>\n",
       "    <tr>\n",
       "      <th>2</th>\n",
       "      <td>2018-08-14</td>\n",
       "      <td>1</td>\n",
       "      <td>THRMHD</td>\n",
       "      <td>3176000.0</td>\n",
       "    </tr>\n",
       "    <tr>\n",
       "      <th>4</th>\n",
       "      <td>2018-08-16</td>\n",
       "      <td>1</td>\n",
       "      <td>THRMHD</td>\n",
       "      <td>3378000.0</td>\n",
       "    </tr>\n",
       "    <tr>\n",
       "      <th>6</th>\n",
       "      <td>2018-08-17</td>\n",
       "      <td>1</td>\n",
       "      <td>THRMHD</td>\n",
       "      <td>3102000.0</td>\n",
       "    </tr>\n",
       "    <tr>\n",
       "      <th>8</th>\n",
       "      <td>2018-08-20</td>\n",
       "      <td>1</td>\n",
       "      <td>THRMHD</td>\n",
       "      <td>3520500.0</td>\n",
       "    </tr>\n",
       "    <tr>\n",
       "      <th>10</th>\n",
       "      <td>2018-08-21</td>\n",
       "      <td>1</td>\n",
       "      <td>THRMHD</td>\n",
       "      <td>4140500.0</td>\n",
       "    </tr>\n",
       "    <tr>\n",
       "      <th>12</th>\n",
       "      <td>2018-08-22</td>\n",
       "      <td>1</td>\n",
       "      <td>THRMHD</td>\n",
       "      <td>4744000.0</td>\n",
       "    </tr>\n",
       "    <tr>\n",
       "      <th>14</th>\n",
       "      <td>2018-08-23</td>\n",
       "      <td>1</td>\n",
       "      <td>THRMHD</td>\n",
       "      <td>3663000.0</td>\n",
       "    </tr>\n",
       "    <tr>\n",
       "      <th>16</th>\n",
       "      <td>2018-08-24</td>\n",
       "      <td>1</td>\n",
       "      <td>THRMHD</td>\n",
       "      <td>3378000.0</td>\n",
       "    </tr>\n",
       "    <tr>\n",
       "      <th>18</th>\n",
       "      <td>2018-08-25</td>\n",
       "      <td>1</td>\n",
       "      <td>THRMHD</td>\n",
       "      <td>3520500.0</td>\n",
       "    </tr>\n",
       "    <tr>\n",
       "      <th>20</th>\n",
       "      <td>2018-08-26</td>\n",
       "      <td>1</td>\n",
       "      <td>THRMHD</td>\n",
       "      <td>3663000.0</td>\n",
       "    </tr>\n",
       "  </tbody>\n",
       "</table>\n",
       "</div>"
      ],
      "text/plain": [
       "         date  al   route      price\n",
       "0  2018-08-13   1  THRMHD  3378000.0\n",
       "2  2018-08-14   1  THRMHD  3176000.0\n",
       "4  2018-08-16   1  THRMHD  3378000.0\n",
       "6  2018-08-17   1  THRMHD  3102000.0\n",
       "8  2018-08-20   1  THRMHD  3520500.0\n",
       "10 2018-08-21   1  THRMHD  4140500.0\n",
       "12 2018-08-22   1  THRMHD  4744000.0\n",
       "14 2018-08-23   1  THRMHD  3663000.0\n",
       "16 2018-08-24   1  THRMHD  3378000.0\n",
       "18 2018-08-25   1  THRMHD  3520500.0\n",
       "20 2018-08-26   1  THRMHD  3663000.0"
      ]
     },
     "execution_count": 23,
     "metadata": {},
     "output_type": "execute_result"
    }
   ],
   "source": [
    "weekly_grouped_data[1]"
   ]
  },
  {
   "cell_type": "markdown",
   "metadata": {},
   "source": [
    "## Add Extra Features\n",
    "**availability**: Whether price for that date/airline is available"
   ]
  },
  {
   "cell_type": "code",
   "execution_count": null,
   "metadata": {},
   "outputs": [],
   "source": []
  },
  {
   "cell_type": "markdown",
   "metadata": {},
   "source": [
    "## Data Splits"
   ]
  },
  {
   "cell_type": "code",
   "execution_count": 24,
   "metadata": {},
   "outputs": [
    {
     "name": "stderr",
     "output_type": "stream",
     "text": [
      "Various splits: {'test': 113, 'vald': 113, 'train': 908} = 1134 data points\n"
     ]
    }
   ],
   "source": [
    "data_size = len(weekly_grouped_data)\n",
    "\n",
    "data_ids = list(range(data_size))\n",
    "import random\n",
    "random.shuffle(data_ids)\n",
    "test_size = int(0.1*data_size)\n",
    "vald_size = int(0.1*data_size)\n",
    "train_size = int(0.8*data_size)\n",
    "data_split_ids = {'test': data_ids[:test_size],\n",
    "               'vald': data_ids[test_size:(test_size+vald_size)],\n",
    "               'train': data_ids[(test_size+vald_size):],\n",
    "              }\n",
    "logger.info('Various splits: {} = {} data points'.format({k:len(v) for k,v in data_split_ids.items()}, \n",
    "                                                   sum([len(v) for v in data_split_ids.values()])))\n"
   ]
  },
  {
   "cell_type": "code",
   "execution_count": 25,
   "metadata": {},
   "outputs": [],
   "source": [
    "from collections import OrderedDict\n",
    "num_feats = 2\n",
    "data_splits = {}\n",
    "for split_name, data_ids in data_split_ids.items():\n",
    "#     if split_name != 'train': continue\n",
    "#     print(split_name)\n",
    "    prices_all = []\n",
    "    for row_id, data_id in enumerate(data_ids):\n",
    "        prices = np.zeros([cfg.data_parms.history_length+cfg.data_parms.future_length, num_airlines, num_feats])\n",
    "\n",
    "        dpoint = weekly_grouped_data[data_id]\n",
    "        if len(dpoint) == 0: continue\n",
    "        dpoint['dd'] = dpoint['date'] - dpoint['date'].min()\n",
    "\n",
    "        time_ids = np.array([a.days for a in dpoint['dd']])\n",
    "\n",
    "        al_ids = np.array([a-1 for a in dpoint['al']])\n",
    "        prices[time_ids, al_ids, 0] = dpoint['price']\n",
    "\n",
    "        prices[:,:,1] = (prices[:,:,0]!=0)\n",
    "        prices_all.append(prices.copy())\n",
    "    data_splits[split_name] = np.stack(prices_all)\n",
    "    \n"
   ]
  },
  {
   "cell_type": "code",
   "execution_count": 26,
   "metadata": {},
   "outputs": [
    {
     "name": "stderr",
     "output_type": "stream",
     "text": [
      "Various splits: {'test': (113, 14, 14, 2), 'vald': (111, 14, 14, 2), 'train': (904, 14, 14, 2)}\n"
     ]
    }
   ],
   "source": [
    "logger.info('Various splits: {}'.format({k:v.shape for k,v in data_splits.items()}))\n",
    "# N x time_length x num_airlines x num_feats"
   ]
  },
  {
   "cell_type": "markdown",
   "metadata": {},
   "source": [
    "## Write Training Data to Disk"
   ]
  },
  {
   "cell_type": "code",
   "execution_count": 27,
   "metadata": {},
   "outputs": [
    {
     "name": "stderr",
     "output_type": "stream",
     "text": [
      "Already exists!: /home/nghorbani/Desktop/alibaba_ai_task/data/V01/test/price.pt: (113, 14, 14, 2)\n",
      "Already exists!: /home/nghorbani/Desktop/alibaba_ai_task/data/V01/vald/price.pt: (111, 14, 14, 2)\n",
      "Already exists!: /home/nghorbani/Desktop/alibaba_ai_task/data/V01/train/price.pt: (904, 14, 14, 2)\n"
     ]
    }
   ],
   "source": [
    "import torch\n",
    "from alibaba_ai_task.tools.omni_tools import makepath\n",
    "for split_name, data in data_splits.items():\n",
    "        data_dict = {\n",
    "#             'price_history': data[:,:cfg.data_parms.history_length],\n",
    "#             'price_future': data[:,cfg.data_parms.future_length:],\n",
    "            'price': data,\n",
    "                    }\n",
    "        for k, v in data_dict.items():\n",
    "            outfname = makepath(cfg.dirs.dataset_dir, split_name, f'{k}.pt', isfile=True)\n",
    "            if osp.exists(outfname): \n",
    "                logger.info(f'Already exists!: {outfname}: {v.shape}')\n",
    "                continue\n",
    "            v_pt = torch.from_numpy(np.asarray(v))\n",
    "            torch.save(v_pt, outfname)\n",
    "            logger.success(f'Created {outfname}: {v.shape}')"
   ]
  },
  {
   "cell_type": "markdown",
   "metadata": {},
   "source": [
    "### Todo: Data Normalization\n",
    "- does it make sense to do input data normalization? Probably it should be per route per airline.\n",
    "- alternatively you can use a BN at the input."
   ]
  }
 ],
 "metadata": {
  "kernelspec": {
   "display_name": "Python 3 (ipykernel)",
   "language": "python",
   "name": "python3"
  },
  "language_info": {
   "codemirror_mode": {
    "name": "ipython",
    "version": 3
   },
   "file_extension": ".py",
   "mimetype": "text/x-python",
   "name": "python",
   "nbconvert_exporter": "python",
   "pygments_lexer": "ipython3",
   "version": "3.7.11"
  }
 },
 "nbformat": 4,
 "nbformat_minor": 4
}
